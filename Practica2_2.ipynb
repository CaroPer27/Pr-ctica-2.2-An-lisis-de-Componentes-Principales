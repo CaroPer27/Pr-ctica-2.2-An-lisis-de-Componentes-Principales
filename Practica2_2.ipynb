{
  "nbformat": 4,
  "nbformat_minor": 0,
  "metadata": {
    "colab": {
      "provenance": []
    },
    "kernelspec": {
      "name": "python3",
      "display_name": "Python 3"
    },
    "language_info": {
      "name": "python"
    }
  },
  "cells": [
    {
      "cell_type": "code",
      "source": [
        "from google.colab import drive\n",
        "drive.mount('/content/drive')"
      ],
      "metadata": {
        "colab": {
          "base_uri": "https://localhost:8080/"
        },
        "id": "sM7WpVdynD1B",
        "outputId": "e71ddeb1-b632-46a5-9849-635655795ccc"
      },
      "execution_count": null,
      "outputs": [
        {
          "output_type": "stream",
          "name": "stdout",
          "text": [
            "Mounted at /content/drive\n"
          ]
        }
      ]
    },
    {
      "cell_type": "markdown",
      "source": [
        "### Calcular la matriz de Covarianza"
      ],
      "metadata": {
        "id": "606HZHMDT8Qz"
      }
    },
    {
      "cell_type": "code",
      "source": [
        "import numpy as np\n",
        "\n",
        "# Calcula la matriz de covarianza\n",
        "cov_matrix = np.cov(df, rowvar=False)\n",
        "\n",
        "print(cov_matrix)"
      ],
      "metadata": {
        "id": "hm3gbuP_UaSR"
      },
      "execution_count": null,
      "outputs": []
    },
    {
      "cell_type": "code",
      "source": [
        "import numpy as np\n",
        "\n",
        "# Calcula la matriz de covarianza\n",
        "cov_matrix = np.cov(df, rowvar=False)\n",
        "\n",
        "# Convierte la matriz de covarianza en un DataFrame de Pandas\n",
        "cov_df = pd.DataFrame(cov_matrix, columns=df.columns, index=df.columns)\n",
        "\n",
        "# Muestra la matriz de covarianza formateada\n",
        "print(cov_df)"
      ],
      "metadata": {
        "id": "lBJyqwggRJ_s"
      },
      "execution_count": null,
      "outputs": []
    },
    {
      "cell_type": "markdown",
      "source": [
        "## Calcular vectores y valores propios"
      ],
      "metadata": {
        "id": "BnXmc13R_voa"
      }
    },
    {
      "cell_type": "code",
      "source": [
        "# Calcular los valores y vectores propios\n",
        "eigenvalues, eigenvectors = np.linalg.eig(cov_matrix)\n",
        "\n",
        "# Ordenar los valores propios y sus vectores correspondientes de forma descendente\n",
        "sorted_indices = np.argsort(eigenvalues)[::-1]\n",
        "eigenvalues = eigenvalues[sorted_indices]\n",
        "eigenvectors = eigenvectors[:, sorted_indices]"
      ],
      "metadata": {
        "id": "nDjzY6l5oNbf"
      },
      "execution_count": null,
      "outputs": []
    },
    {
      "cell_type": "code",
      "source": [
        "for i in range(len(eigenvalues)):\n",
        "    print(f\"Valor Propio {i + 1}: {eigenvalues[i]}\")\n",
        "    print(f\"Vector Propio {i + 1}:\\n{eigenvectors[:, i]}\")"
      ],
      "metadata": {
        "colab": {
          "base_uri": "https://localhost:8080/"
        },
        "id": "Z_jOZeyvreyY",
        "outputId": "a6dfd0e4-8f4c-4f2e-c90d-b8560426ffa1"
      },
      "execution_count": null,
      "outputs": [
        {
          "output_type": "stream",
          "name": "stdout",
          "text": [
            "Valor Propio 1: 0.2200921970870899\n",
            "Vector Propio 1:\n",
            "[-0.13336766  0.24851581 -0.00073917  0.17783862 -0.08865728 -0.39507087\n",
            " -0.41458979  0.33310861 -0.2529021   0.09232904 -0.25113726 -0.4734921\n",
            " -0.28686211]\n",
            "Valor Propio 2: 0.10246083966837399\n",
            "Vector Propio 2:\n",
            "[-0.55088368 -0.22739058 -0.1630912   0.07977633 -0.18816566 -0.07414473\n",
            " -0.00100692 -0.00996037 -0.03141788 -0.5197075   0.23720622  0.21556225\n",
            " -0.44388836]\n",
            "Valor Propio 3: 0.046242471978384554\n",
            "Vector Propio 3:\n",
            "[ 0.08384838 -0.49203927 -0.40300937 -0.47724241 -0.0065507  -0.25306514\n",
            " -0.19610546 -0.28598186 -0.22834235  0.03309997  0.10658878 -0.29777629\n",
            "  0.15196829]\n",
            "Valor Propio 4: 0.04011225792515992\n",
            "Vector Propio 4:\n",
            "[-0.04032815  0.48603202 -0.24197565 -0.08169399  0.01588017 -0.05264323\n",
            " -0.02703323 -0.70909528  0.07657367 -0.02632204 -0.35249801  0.08206201\n",
            " -0.2297925 ]\n",
            "Valor Propio 5: 0.030058769060629056\n",
            "Vector Propio 5:\n",
            "[ 0.27801009  0.41288996 -0.2863938  -0.41830488 -0.47089872  0.01802978\n",
            " -0.00257298  0.36003786 -0.14866588 -0.20058243  0.07716208  0.26339648\n",
            "  0.0765558 ]\n",
            "Valor Propio 6: 0.025162863391466717\n",
            "Vector Propio 6:\n",
            "[-0.13725432 -0.21310279 -0.30096468 -0.13560977 -0.31251865  0.28360441\n",
            "  0.14704479  0.19723176  0.5031153   0.3880319  -0.28304142 -0.16727805\n",
            " -0.27634879]\n",
            "Valor Propio 7: 0.019789260442576475\n",
            "Vector Propio 7:\n",
            "[-0.2753522   0.31030165 -0.17180533 -0.29755595  0.52041936 -0.06652367\n",
            " -0.05069828  0.21488868  0.46620658 -0.21259582  0.19331497 -0.22456142\n",
            "  0.18837249]\n",
            "Valor Propio 8: 0.013010121098860053\n",
            "Vector Propio 8:\n",
            "[ 0.55503062 -0.07692815 -0.12346035  0.27075627 -0.01993661 -0.4133838\n",
            " -0.15646074 -0.03423216  0.48347014 -0.03692371  0.29537172  0.10230331\n",
            " -0.26022884]\n",
            "Valor Propio 9: 0.012284111354901433\n",
            "Vector Propio 9:\n",
            "[-0.32668668  0.0144706   0.04436154  0.20492352 -0.4719103  -0.35123186\n",
            " -0.08896029 -0.12288924  0.28405409  0.023708   -0.06877466  0.06019702\n",
            "  0.62483882]\n",
            "Valor Propio 10: 0.012157693330037933\n",
            "Vector Propio 10:\n",
            "[-0.03591166 -0.23707282 -0.05689864 -0.13250304  0.32586773 -0.26300631\n",
            " -0.19944486  0.23677468  0.01874298  0.03914349 -0.53424814  0.60219375\n",
            "  0.02382905]\n",
            "Valor Propio 11: 0.007460504072081343\n",
            "Vector Propio 11:\n",
            "[-0.28068493  0.17037465  0.09075664 -0.20086418  0.02727739 -0.247764\n",
            "  0.03057927 -0.0325501  -0.09931483  0.66914409  0.45858754  0.28781529\n",
            " -0.16947621]\n",
            "Valor Propio 12: 0.006876879411747245\n",
            "Vector Propio 12:\n",
            "[-0.05612694  0.06165427 -0.63253778  0.47665031  0.14463496  0.33370902\n",
            " -0.29987077  0.04731125 -0.16495685  0.17921124  0.15737926  0.14106325\n",
            "  0.19316479]\n",
            "Valor Propio 13: 0.004402414143158102\n",
            "Vector Propio 13:\n",
            "[ 0.01135967  0.02942775 -0.34860445  0.21275528  0.12344538 -0.38762785\n",
            "  0.77569151  0.11831827 -0.1806072   0.01624317 -0.09562382 -0.08174549\n",
            "  0.04811869]\n"
          ]
        }
      ]
    },
    {
      "cell_type": "code",
      "source": [
        "# Como ejemplo se reducirá la dimensionalidad a n_componentes, en este caso 2\n",
        "n_componentes = 2\n",
        "\n",
        "# Transponer los vectores principales seleccionados\n",
        "selected_eigenvectors = eigenvectors[:, :n_componentes]\n",
        "\n",
        "# Transforma los datos originales\n",
        "transformed_data = np.dot(data, selected_eigenvectors)"
      ],
      "metadata": {
        "id": "M2xRFdtHrfIL"
      },
      "execution_count": null,
      "outputs": []
    },
    {
      "cell_type": "code",
      "source": [
        "transformed_data"
      ],
      "metadata": {
        "id": "oi_KINGStqaF",
        "colab": {
          "base_uri": "https://localhost:8080/"
        },
        "outputId": "f2fb7198-3476-4666-8eae-0e2bdc667a6c"
      },
      "execution_count": null,
      "outputs": [
        {
          "output_type": "execute_result",
          "data": {
            "text/plain": [
              "array([[-319.92525173, -506.14273108],\n",
              "       [-313.29630781, -493.56769325],\n",
              "       [-351.04418819, -554.07674838],\n",
              "       [-437.58892567, -689.11047423],\n",
              "       [-222.49632111, -356.77512711],\n",
              "       [-428.7070013 , -675.0781598 ],\n",
              "       [-381.32281758, -600.23506091],\n",
              "       [-384.20248966, -606.69842672],\n",
              "       [-311.3391932 , -492.00261696],\n",
              "       [-311.27434366, -492.37149433],\n",
              "       [-444.96961784, -699.53409297],\n",
              "       [-377.48980901, -595.13658665],\n",
              "       [-388.78621766, -612.03180003],\n",
              "       [-341.90084048, -537.84150748],\n",
              "       [-456.63373034, -716.97666129],\n",
              "       [-387.64296461, -612.68914436],\n",
              "       [-379.44495461, -600.59237257],\n",
              "       [-336.01734335, -532.92860079],\n",
              "       [-494.20593573, -777.25315084],\n",
              "       [-255.07744467, -406.29234897],\n",
              "       [-238.00894727, -379.32534347],\n",
              "       [-231.27974701, -369.50369273],\n",
              "       [-308.65702478, -486.56689921],\n",
              "       [-301.6146147 , -476.09220558],\n",
              "       [-252.87856107, -400.81362509],\n",
              "       [-249.8240306 , -399.11122322],\n",
              "       [-353.44081401, -556.71318303],\n",
              "       [-378.58689961, -596.23384137],\n",
              "       [-274.12175343, -434.86333204],\n",
              "       [-307.97605114, -486.36346194],\n",
              "       [-379.12486635, -598.35062689],\n",
              "       [-445.87004024, -702.1413932 ],\n",
              "       [-295.26936087, -467.31712703],\n",
              "       [-367.67864121, -581.98487425],\n",
              "       [-325.36139469, -515.05540177],\n",
              "       [-274.60222384, -435.70901341],\n",
              "       [-264.33442534, -420.00970849],\n",
              "       [-327.12252843, -517.11526527],\n",
              "       [-303.42747362, -479.14304608],\n",
              "       [-232.25167383, -371.50882106],\n",
              "       [-241.29252027, -384.39544772],\n",
              "       [-305.9910245 , -485.06119619],\n",
              "       [-326.32269218, -514.50980945],\n",
              "       [-205.53458287, -330.07971617],\n",
              "       [-265.82913243, -421.53320546],\n",
              "       [-320.93606699, -509.97802016],\n",
              "       [-317.23284376, -501.64146309],\n",
              "       [-294.4495117 , -465.8825227 ],\n",
              "       [-315.03316782, -499.68151835],\n",
              "       [-373.31001024, -590.65316016],\n",
              "       [-341.25870767, -537.85577592],\n",
              "       [-373.69532197, -588.40073405],\n",
              "       [-354.72324376, -559.47750902],\n",
              "       [-406.68254945, -641.73259407],\n",
              "       [-316.81329695, -502.11366312],\n",
              "       [-333.28316638, -528.27512879],\n",
              "       [-291.44379713, -462.75604456],\n",
              "       [-375.55544841, -592.33032722],\n",
              "       [-380.97118173, -600.70319762],\n",
              "       [-158.4791209 , -254.32028376],\n",
              "       [-204.50631159, -328.20196668],\n",
              "       [-138.14620985, -227.41701345],\n",
              "       [-190.14235736, -305.36568924],\n",
              "       [-130.51892652, -210.43934829],\n",
              "       [-111.67255178, -183.96766045],\n",
              "       [-204.73368457, -327.32339818],\n",
              "       [-154.03452433, -246.14290497],\n",
              "       [-154.42250591, -248.5002094 ],\n",
              "       [-225.76171418, -361.40278266],\n",
              "       [-221.05965041, -353.80107171],\n",
              "       [-258.22556977, -412.54340834],\n",
              "       [-126.54708649, -205.63141166],\n",
              "       [-143.12546275, -233.43357585],\n",
              "       [-295.47127336, -469.9386014 ],\n",
              "       [-264.73632639, -418.89066648],\n",
              "       [-132.05647066, -215.50609193],\n",
              "       [-121.69413303, -198.34028639],\n",
              "       [-153.53550752, -249.89535343],\n",
              "       [-229.11689744, -365.91220654],\n",
              "       [-142.48381684, -231.61443846],\n",
              "       [ -89.11431917, -145.74243821],\n",
              "       [-214.0460548 , -340.69505947],\n",
              "       [-187.78216274, -300.17707884],\n",
              "       [-154.28844416, -253.28972612],\n",
              "       [-159.34237434, -255.19431178],\n",
              "       [-139.61780079, -225.11267547],\n",
              "       [-149.97759984, -242.93993544],\n",
              "       [-168.78826366, -271.70123589],\n",
              "       [-202.6616986 , -324.02740492],\n",
              "       [-185.94552041, -296.22209967],\n",
              "       [-145.36305784, -234.95977652],\n",
              "       [-136.54979839, -222.74117496],\n",
              "       [-149.02382451, -241.90762459],\n",
              "       [ -92.70176075, -152.0083274 ],\n",
              "       [-109.31928074, -178.41749481],\n",
              "       [-285.00858932, -453.26747186],\n",
              "       [-190.86390828, -309.12089407],\n",
              "       [-132.49103296, -212.99061211],\n",
              "       [-199.74206768, -317.27256751],\n",
              "       [-126.33026216, -203.74844166],\n",
              "       [-213.71902245, -340.41144304],\n",
              "       [-169.80521973, -272.68734934],\n",
              "       [-135.28512149, -219.71754442],\n",
              "       [-127.45946477, -206.60641011],\n",
              "       [-201.51444772, -320.98593199],\n",
              "       [ -98.54770691, -163.46216271],\n",
              "       [-154.43936713, -248.43377711],\n",
              "       [-147.28715241, -239.55020675],\n",
              "       [ -99.16000653, -162.42467271],\n",
              "       [-205.42437109, -325.81320385],\n",
              "       [-172.23779431, -276.58050158],\n",
              "       [-101.89304505, -167.40946376],\n",
              "       [-183.34522109, -296.10477823],\n",
              "       [-133.02807634, -215.46955506],\n",
              "       [-118.7120647 , -193.11442306],\n",
              "       [-125.3822234 , -201.93592869],\n",
              "       [-150.50264569, -241.68763511],\n",
              "       [-109.22707472, -179.61911004],\n",
              "       [-113.90658486, -188.33740019],\n",
              "       [-170.25323483, -272.92397061],\n",
              "       [-189.34016272, -302.19367813],\n",
              "       [-145.01293458, -236.29387329],\n",
              "       [-113.15026451, -187.80610919],\n",
              "       [-117.06247846, -192.77281604],\n",
              "       [-117.76207102, -191.14194138],\n",
              "       [-117.16791243, -190.36771148],\n",
              "       [-109.91608491, -179.82223032],\n",
              "       [-140.95495769, -230.34656246],\n",
              "       [-106.38216951, -174.49621465],\n",
              "       [-173.03095632, -279.5659142 ],\n",
              "       [-191.42523959, -310.75690741],\n",
              "       [-160.1859691 , -263.8521053 ],\n",
              "       [-167.50883953, -275.70433811],\n",
              "       [-180.17467527, -295.04251999],\n",
              "       [-193.79299763, -313.18902868],\n",
              "       [-206.70107253, -335.90619797],\n",
              "       [-212.35929436, -344.58933253],\n",
              "       [-153.67160069, -255.47194252],\n",
              "       [-173.02985923, -283.59500677],\n",
              "       [-176.89455032, -289.24205929],\n",
              "       [-179.61312706, -292.77744249],\n",
              "       [-230.86078148, -372.04930677],\n",
              "       [-156.20395591, -257.55492036],\n",
              "       [-164.97806882, -270.68097145],\n",
              "       [-253.99033191, -410.93594179],\n",
              "       [-245.85649019, -396.08825262],\n",
              "       [-124.07371001, -209.04804523],\n",
              "       [-184.97446357, -304.04501758],\n",
              "       [-193.13791331, -316.67003948],\n",
              "       [-165.95926658, -276.77189579],\n",
              "       [-152.51133511, -255.94376095],\n",
              "       [-145.96173095, -245.77847531],\n",
              "       [-130.77921185, -220.02263997],\n",
              "       [-201.18563795, -330.20755618],\n",
              "       [-191.70596505, -313.07768767],\n",
              "       [-214.03554653, -350.20580881],\n",
              "       [-144.31780391, -241.58867902],\n",
              "       [-258.51062989, -418.24742779],\n",
              "       [-197.09493761, -324.63169865],\n",
              "       [-184.9186247 , -304.25744025],\n",
              "       [-155.50288246, -257.48466071],\n",
              "       [-203.56418182, -331.68162912],\n",
              "       [-171.54556396, -281.8478867 ],\n",
              "       [-202.06811817, -328.7443603 ],\n",
              "       [-182.66643913, -301.35289025],\n",
              "       [-154.94949828, -257.52409768],\n",
              "       [-207.24112958, -341.41841053],\n",
              "       [-202.74104917, -332.19924659],\n",
              "       [-222.72923251, -363.33068897],\n",
              "       [-188.51644676, -311.65413434],\n",
              "       [-153.58043367, -253.14681287],\n",
              "       [-140.85614058, -235.99122684],\n",
              "       [-196.29732606, -321.9636884 ],\n",
              "       [-218.76602899, -357.5931728 ],\n",
              "       [-222.39246809, -362.42405838],\n",
              "       [-248.37724952, -405.27324805],\n",
              "       [-250.34638009, -406.59709952],\n",
              "       [-167.00564534, -278.34249062]])"
            ]
          },
          "metadata": {},
          "execution_count": 16
        }
      ]
    },
    {
      "cell_type": "code",
      "source": [
        "# Calcula la varianza total\n",
        "total_variance = np.sum(eigenvalues)\n",
        "\n",
        "# Calcula la varianza explicada por cada componente principal\n",
        "explained_variance = eigenvalues / total_variance\n",
        "\n",
        "# Trazar la gráfica de Scree\n",
        "plt.figure(figsize=(10, 6))\n",
        "plt.bar(range(1, len(explained_variance) + 1), explained_variance)\n",
        "plt.xlabel('Componente Principal')\n",
        "plt.ylabel('Varianza Explicada')\n",
        "plt.title('Gráfica de Scree')\n",
        "plt.grid(True)\n",
        "plt.show()\n",
        "\n",
        "# Calcular cuántos componentes necesitas para mantener el 95% de la varianza\n",
        "cumulative_variance = np.cumsum(explained_variance)\n",
        "n_components_needed = np.argmax(cumulative_variance >= 0.95) + 1\n",
        "print(f\"Se necesitan {n_components_needed} componentes principales para mantener el 95% de la varianza.\")"
      ],
      "metadata": {
        "colab": {
          "base_uri": "https://localhost:8080/",
          "height": 581
        },
        "id": "a0cFbUGiuhco",
        "outputId": "88088ccd-bf48-4204-e29f-a195500e23c1"
      },
      "execution_count": null,
      "outputs": [
        {
          "output_type": "display_data",
          "data": {
            "text/plain": [
              "<Figure size 1000x600 with 1 Axes>"
            ],
            "image/png": "[encoded data removed]"
          },
          "metadata": {}
        },
        {
          "output_type": "stream",
          "name": "stdout",
          "text": [
            "Se necesitan 10 componentes principales para mantener el 95% de la varianza.\n"
          ]
        }
      ]
    }
  ]
}